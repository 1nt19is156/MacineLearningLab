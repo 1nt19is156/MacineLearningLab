{
 "cells": [
  {
   "cell_type": "code",
   "execution_count": 1,
   "id": "b9540e9f",
   "metadata": {},
   "outputs": [
    {
     "name": "stdout",
     "output_type": "stream",
     "text": [
      "index 1\n"
     ]
    }
   ],
   "source": [
    "def bs(arr,low,high,x):\n",
    "    if high>=low:\n",
    "       mid=(low+high)//2\n",
    "       if arr[mid]==x:\n",
    "         return mid\n",
    "       elif arr[mid]>x:\n",
    "         return bs(arr,low,mid-1,x)\n",
    "       else:\n",
    "         return bs(arr,mid+1,high,x)\n",
    "    else:\n",
    "      return -1\n",
    "\n",
    "arr = [2,3,5,7,9]\n",
    "x = 3 \n",
    "result = bs(arr,0,len(arr)-1,x)\n",
    "if result != -1:\n",
    "    print(\"index\",str(result))\n",
    "else:\n",
    "    print(\"not present\")\n",
    "    "
   ]
  },
  {
   "cell_type": "code",
   "execution_count": null,
   "id": "ff3b2757",
   "metadata": {},
   "outputs": [],
   "source": [
    "#bubble sort"
   ]
  },
  {
   "cell_type": "code",
   "execution_count": 2,
   "id": "1cb7bbbc",
   "metadata": {},
   "outputs": [
    {
     "name": "stdout",
     "output_type": "stream",
     "text": [
      "unsorted [3, 1, 2, 6, 7, 4]\n",
      "sorted [1, 2, 3, 4, 6, 7]\n"
     ]
    }
   ],
   "source": [
    "def bbs(l):\n",
    " for i in range(0,len(l)-1):\n",
    "    for j in range(len(l)-1):\n",
    "        if(l[j]>l[j+1]):\n",
    "            temp=l[j]\n",
    "            l[j]=l[j+1]\n",
    "            l[j+1]=temp\n",
    " return l\n",
    "l=[3,1,2,6,7,4]\n",
    "print(\"unsorted\",l)\n",
    "print(\"sorted\",bbs(l))"
   ]
  },
  {
   "cell_type": "code",
   "execution_count": 3,
   "id": "96ed0f23",
   "metadata": {},
   "outputs": [],
   "source": [
    "#linear search\n"
   ]
  },
  {
   "cell_type": "code",
   "execution_count": 4,
   "id": "cf7cb01f",
   "metadata": {},
   "outputs": [
    {
     "name": "stdout",
     "output_type": "stream",
     "text": [
      "at 3\n"
     ]
    }
   ],
   "source": [
    "def ls(arr,n,key):\n",
    "    for i in range(0,n):\n",
    "        if (arr[i]==key):\n",
    "            return i\n",
    "    return -1\n",
    "arr =[3,6,4,5,9]\n",
    "key=5\n",
    "n=len(arr)\n",
    "res=ls(arr,n,key)\n",
    "if(res==-1):\n",
    "    print(\"not found\")\n",
    "else:\n",
    "    print(\"at\",res)"
   ]
  },
  {
   "cell_type": "code",
   "execution_count": 5,
   "id": "7a63fab6",
   "metadata": {},
   "outputs": [],
   "source": [
    "#mean , median , mode "
   ]
  },
  {
   "cell_type": "code",
   "execution_count": 6,
   "id": "5a088276",
   "metadata": {},
   "outputs": [],
   "source": [
    "import math\n",
    "import statistics"
   ]
  },
  {
   "cell_type": "code",
   "execution_count": 7,
   "id": "4927d8d3",
   "metadata": {},
   "outputs": [],
   "source": [
    "num =[20,10,50,50,50,40,60,80,10,90,70,70]\n",
    "size=len(num)"
   ]
  },
  {
   "cell_type": "code",
   "execution_count": 8,
   "id": "e76026b9",
   "metadata": {},
   "outputs": [
    {
     "name": "stdout",
     "output_type": "stream",
     "text": [
      "50.0\n"
     ]
    }
   ],
   "source": [
    "def mean(num):\n",
    "    size=len(num)\n",
    "    sum=0\n",
    "    \n",
    "    for i in num:\n",
    "        sum+=i\n",
    "    \n",
    "    mean=sum/size\n",
    "    return mean\n",
    "print(mean(num))"
   ]
  },
  {
   "cell_type": "code",
   "execution_count": 9,
   "id": "4ddc33cb",
   "metadata": {},
   "outputs": [
    {
     "name": "stdout",
     "output_type": "stream",
     "text": [
      "50.0\n"
     ]
    }
   ],
   "source": [
    "def median(num):\n",
    "    size=len(num)\n",
    "    \n",
    "    num.sort()\n",
    "    if size % 2 ==0:\n",
    "        num1=num[size//2]\n",
    "        num2=num[size//2]\n",
    "        num=(num1+num2)/2\n",
    "    else:\n",
    "        num=(size+1)//2\n",
    "    return num\n",
    "print(median(num))"
   ]
  },
  {
   "cell_type": "code",
   "execution_count": 10,
   "id": "89017865",
   "metadata": {},
   "outputs": [
    {
     "name": "stdout",
     "output_type": "stream",
     "text": [
      "mode is 90: 2\n"
     ]
    }
   ],
   "source": [
    "def mode(num):\n",
    "    d=dict()\n",
    "    \n",
    "    for i in num:\n",
    "        d[i]=0\n",
    "        maxi=num[0]\n",
    "    for i in num:\n",
    "        d[i]+=1\n",
    "    if d[i]>d[maxi]:\n",
    "        maxi=i\n",
    "    if d[maxi]==1:\n",
    "        print(\"mode is not available\")\n",
    "    else:\n",
    "        print(\"mode is \"+str(i)+\": \"+str(d[maxi]))\n",
    "mode(num)\n",
    "    \n",
    "    "
   ]
  },
  {
   "cell_type": "code",
   "execution_count": null,
   "id": "a451af71",
   "metadata": {},
   "outputs": [],
   "source": [
    "#varience"
   ]
  },
  {
   "cell_type": "code",
   "execution_count": 11,
   "id": "a8745e2c",
   "metadata": {},
   "outputs": [
    {
     "name": "stdout",
     "output_type": "stream",
     "text": [
      "6\n"
     ]
    }
   ],
   "source": [
    "lis=[2,3,1,6,7,8,5]\n",
    "n=len(lis)\n",
    "mean=sum(lis)//n\n",
    "var=0\n",
    "for i in lis:\n",
    "    var=var+(i-mean)**2\n",
    "    varience=var//n\n",
    "print(varience)"
   ]
  },
  {
   "cell_type": "code",
   "execution_count": null,
   "id": "d9090d56",
   "metadata": {},
   "outputs": [],
   "source": [
    "#standard deviation"
   ]
  },
  {
   "cell_type": "code",
   "execution_count": 12,
   "id": "3a4974ac",
   "metadata": {},
   "outputs": [
    {
     "name": "stdout",
     "output_type": "stream",
     "text": [
      "2.449489742783178\n"
     ]
    }
   ],
   "source": [
    "lis=[2,3,1,6,7,8,5]\n",
    "n=len(lis)\n",
    "mean=sum(lis)//n\n",
    "var=0\n",
    "for i in lis:\n",
    "    var=var+(i-mean)**2\n",
    "    sd=(var//n)**0.5\n",
    "print(sd)"
   ]
  },
  {
   "cell_type": "code",
   "execution_count": null,
   "id": "25370dad",
   "metadata": {},
   "outputs": [],
   "source": [
    "##normalization"
   ]
  },
  {
   "cell_type": "code",
   "execution_count": 13,
   "id": "2e92be6f",
   "metadata": {},
   "outputs": [
    {
     "name": "stdout",
     "output_type": "stream",
     "text": [
      "[0.0, 0.0, 0.125, 0.375, 0.5, 0.5, 0.5, 0.625, 0.75, 0.75, 0.875, 1.0]\n"
     ]
    }
   ],
   "source": [
    "def normalization(num):\n",
    "    mi=min(num)\n",
    "    ma=max(num)\n",
    "    nu=[]\n",
    "    for i in num:\n",
    "        nu.append((i-mi)/(ma-mi))\n",
    "    return nu\n",
    "print(normalization(num))"
   ]
  },
  {
   "cell_type": "code",
   "execution_count": null,
   "id": "b14966a6",
   "metadata": {},
   "outputs": [],
   "source": []
  }
 ],
 "metadata": {
  "kernelspec": {
   "display_name": "Python 3 (ipykernel)",
   "language": "python",
   "name": "python3"
  },
  "language_info": {
   "codemirror_mode": {
    "name": "ipython",
    "version": 3
   },
   "file_extension": ".py",
   "mimetype": "text/x-python",
   "name": "python",
   "nbconvert_exporter": "python",
   "pygments_lexer": "ipython3",
   "version": "3.9.12"
  }
 },
 "nbformat": 4,
 "nbformat_minor": 5
}
