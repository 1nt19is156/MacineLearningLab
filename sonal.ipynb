{
 "cells": [
  {
   "cell_type": "code",
   "execution_count": 1,
   "metadata": {},
   "outputs": [
    {
     "name": "stdout",
     "output_type": "stream",
     "text": [
      "hello world\n"
     ]
    }
   ],
   "source": [
    "print('hello world')"
   ]
  },
  {
   "cell_type": "code",
   "execution_count": 2,
   "metadata": {},
   "outputs": [
    {
     "name": "stdout",
     "output_type": "stream",
     "text": [
      "helllooooo soniiiiii!!!\n"
     ]
    }
   ],
   "source": [
    "print('helllooooo soniiiiii!!!')"
   ]
  },
  {
   "cell_type": "code",
   "execution_count": 3,
   "metadata": {},
   "outputs": [
    {
     "name": "stdout",
     "output_type": "stream",
     "text": [
      "x\n"
     ]
    }
   ],
   "source": [
    "x=5\n",
    "print(\"x\")"
   ]
  },
  {
   "cell_type": "code",
   "execution_count": 4,
   "metadata": {},
   "outputs": [
    {
     "ename": "AttributeError",
     "evalue": "'int' object has no attribute 'print'",
     "output_type": "error",
     "traceback": [
      "\u001b[0;31m---------------------------------------------------------------------------\u001b[0m",
      "\u001b[0;31mAttributeError\u001b[0m                            Traceback (most recent call last)",
      "\u001b[0;32m<ipython-input-4-b43acc261550>\u001b[0m in \u001b[0;36m<module>\u001b[0;34m\u001b[0m\n\u001b[1;32m      1\u001b[0m \u001b[0mx\u001b[0m\u001b[0;34m=\u001b[0m\u001b[0;36m5\u001b[0m\u001b[0;34m\u001b[0m\u001b[0;34m\u001b[0m\u001b[0m\n\u001b[0;32m----> 2\u001b[0;31m \u001b[0mx\u001b[0m\u001b[0;34m.\u001b[0m\u001b[0mprint\u001b[0m\u001b[0;34m\u001b[0m\u001b[0;34m\u001b[0m\u001b[0m\n\u001b[0m",
      "\u001b[0;31mAttributeError\u001b[0m: 'int' object has no attribute 'print'"
     ]
    }
   ],
   "source": [
    "x=5\n",
    "x.print"
   ]
  },
  {
   "cell_type": "code",
   "execution_count": 5,
   "metadata": {},
   "outputs": [
    {
     "name": "stdout",
     "output_type": "stream",
     "text": [
      "5\n"
     ]
    }
   ],
   "source": [
    "x=5\n",
    "print(x)"
   ]
  },
  {
   "cell_type": "code",
   "execution_count": 6,
   "metadata": {},
   "outputs": [],
   "source": [
    "x=str(3)"
   ]
  },
  {
   "cell_type": "code",
   "execution_count": 7,
   "metadata": {},
   "outputs": [
    {
     "name": "stdout",
     "output_type": "stream",
     "text": [
      "3\n"
     ]
    }
   ],
   "source": [
    "x=str(3)\n",
    "print(x)"
   ]
  },
  {
   "cell_type": "code",
   "execution_count": 8,
   "metadata": {},
   "outputs": [
    {
     "ename": "NameError",
     "evalue": "name 'hh' is not defined",
     "output_type": "error",
     "traceback": [
      "\u001b[0;31m---------------------------------------------------------------------------\u001b[0m",
      "\u001b[0;31mNameError\u001b[0m                                 Traceback (most recent call last)",
      "\u001b[0;32m<ipython-input-8-7d84d1b0d37d>\u001b[0m in \u001b[0;36m<module>\u001b[0;34m\u001b[0m\n\u001b[0;32m----> 1\u001b[0;31m \u001b[0mx\u001b[0m\u001b[0;34m=\u001b[0m\u001b[0mhh\u001b[0m\u001b[0;34m\u001b[0m\u001b[0;34m\u001b[0m\u001b[0m\n\u001b[0m\u001b[1;32m      2\u001b[0m \u001b[0mprint\u001b[0m\u001b[0;34m(\u001b[0m\u001b[0mtype\u001b[0m\u001b[0;34m(\u001b[0m\u001b[0mx\u001b[0m\u001b[0;34m)\u001b[0m\u001b[0;34m)\u001b[0m\u001b[0;34m\u001b[0m\u001b[0;34m\u001b[0m\u001b[0m\n",
      "\u001b[0;31mNameError\u001b[0m: name 'hh' is not defined"
     ]
    }
   ],
   "source": [
    "x=hh\n",
    "print(type(x))"
   ]
  },
  {
   "cell_type": "code",
   "execution_count": 9,
   "metadata": {},
   "outputs": [
    {
     "name": "stdout",
     "output_type": "stream",
     "text": [
      "<class 'str'>\n"
     ]
    }
   ],
   "source": [
    "x=\"hh\"\n",
    "print(type(x))"
   ]
  },
  {
   "cell_type": "code",
   "execution_count": 10,
   "metadata": {},
   "outputs": [
    {
     "name": "stdout",
     "output_type": "stream",
     "text": [
      "sonal\n",
      "sonal\n"
     ]
    }
   ],
   "source": [
    "x=y=z=\"sonal\"\n",
    "print(x)\n",
    "print(y)"
   ]
  },
  {
   "cell_type": "code",
   "execution_count": 11,
   "metadata": {},
   "outputs": [
    {
     "name": "stdout",
     "output_type": "stream",
     "text": [
      "soni\n",
      "sonal\n",
      "suchithra\n"
     ]
    }
   ],
   "source": [
    "friends=[\"soni\",\"sonal\",\"suchithra\"]\n",
    "x,y,z=friends\n",
    "print(x)\n",
    "print(y)\n",
    "print(z)"
   ]
  },
  {
   "cell_type": "code",
   "execution_count": 12,
   "metadata": {},
   "outputs": [
    {
     "name": "stdout",
     "output_type": "stream",
     "text": [
      "x is 5\n",
      "y is 3\n"
     ]
    }
   ],
   "source": [
    "x=3\n",
    "y=5\n",
    "x,y=y,x\n",
    "print(\"x is\",x)\n",
    "print(\"y is\",y)\n"
   ]
  },
  {
   "cell_type": "code",
   "execution_count": 13,
   "metadata": {},
   "outputs": [
    {
     "name": "stdout",
     "output_type": "stream",
     "text": [
      "5\n",
      "3\n"
     ]
    }
   ],
   "source": [
    "x=3\n",
    "y=5\n",
    "temp=x\n",
    "x=y\n",
    "y=temp\n",
    "print(x)\n",
    "print(y)"
   ]
  },
  {
   "cell_type": "code",
   "execution_count": 28,
   "metadata": {},
   "outputs": [
    {
     "name": "stdout",
     "output_type": "stream",
     "text": [
      "index 1\n"
     ]
    }
   ],
   "source": [
    "def bs(arr,low,high,x):\n",
    "    if high>=low:\n",
    "       mid=(low+high)//2\n",
    "       if arr[mid]==x:\n",
    "         return mid\n",
    "       elif arr[mid]>x:\n",
    "         return bs(arr,low,mid-1,x)\n",
    "       else:\n",
    "         return bs(arr,mid+1,high,x)\n",
    "    else:\n",
    "      return -1\n",
    "\n",
    "arr = [2,3,5,7,9]\n",
    "x = 3 \n",
    "result = bs(arr,0,len(arr)-1,x)\n",
    "if result != -1:\n",
    "    print(\"index\",str(result))\n",
    "else:\n",
    "    print(\"not present\")\n",
    "    \n",
    "    "
   ]
  },
  {
   "cell_type": "code",
   "execution_count": 30,
   "metadata": {},
   "outputs": [
    {
     "name": "stdout",
     "output_type": "stream",
     "text": [
      "unsorted [3, 1, 2, 6, 7, 4]\n",
      "sorted [1, 2, 3, 4, 6, 7]\n"
     ]
    }
   ],
   "source": [
    "def bbs(l):\n",
    " for i in range(0,len(l)-1):\n",
    "    for j in range(len(l)-1):\n",
    "        if(l[j]>l[j+1]):\n",
    "            temp=l[j]\n",
    "            l[j]=l[j+1]\n",
    "            l[j+1]=temp\n",
    " return l\n",
    "l=[3,1,2,6,7,4]\n",
    "print(\"unsorted\",l)\n",
    "print(\"sorted\",bbs(l))"
   ]
  },
  {
   "cell_type": "code",
   "execution_count": 32,
   "metadata": {},
   "outputs": [
    {
     "name": "stdout",
     "output_type": "stream",
     "text": [
      "at 3\n"
     ]
    }
   ],
   "source": [
    "def ls(arr,n,key):\n",
    "    for i in range(0,n):\n",
    "        if (arr[i]==key):\n",
    "            return i\n",
    "    return -1\n",
    "arr =[3,6,4,5,9]\n",
    "key=5\n",
    "n=len(arr)\n",
    "res=ls(arr,n,key)\n",
    "if(res==-1):\n",
    "    print(\"not found\")\n",
    "else:\n",
    "    print(\"at\",res)"
   ]
  },
  {
   "cell_type": "code",
   "execution_count": 37,
   "metadata": {},
   "outputs": [],
   "source": [
    "import math"
   ]
  },
  {
   "cell_type": "code",
   "execution_count": 38,
   "metadata": {},
   "outputs": [],
   "source": [
    "num =[20,10,50,50,50,40,60,80,10,90,70,70]\n",
    "size=len(num)"
   ]
  },
  {
   "cell_type": "code",
   "execution_count": 39,
   "metadata": {},
   "outputs": [
    {
     "name": "stdout",
     "output_type": "stream",
     "text": [
      "50.0\n"
     ]
    }
   ],
   "source": [
    "def mean(num):\n",
    "    size=len(num)\n",
    "    sum=0\n",
    "    \n",
    "    for i in num:\n",
    "        sum+=i\n",
    "    \n",
    "    mean=sum/size\n",
    "    return mean\n",
    "print(mean(num))"
   ]
  },
  {
   "cell_type": "code",
   "execution_count": 40,
   "metadata": {},
   "outputs": [
    {
     "name": "stdout",
     "output_type": "stream",
     "text": [
      "50.0\n"
     ]
    }
   ],
   "source": [
    "def median(num):\n",
    "    size=len(num)\n",
    "    \n",
    "    num.sort()\n",
    "    if size % 2 ==0:\n",
    "        num1=num[size//2]\n",
    "        num2=num[size//2]\n",
    "        num=(num1+num2)/2\n",
    "    else:\n",
    "        num=(size+1)//2\n",
    "    return num\n",
    "print(median(num))"
   ]
  },
  {
   "cell_type": "code",
   "execution_count": 41,
   "metadata": {},
   "outputs": [
    {
     "name": "stdout",
     "output_type": "stream",
     "text": [
      "mode is 90: 2\n"
     ]
    }
   ],
   "source": [
    "def mode(num):\n",
    "    d=dict()\n",
    "    \n",
    "    for i in num:\n",
    "        d[i]=0\n",
    "        maxi=num[0]\n",
    "    for i in num:\n",
    "        d[i]+=1\n",
    "    if d[i]>d[maxi]:\n",
    "        maxi=i\n",
    "    if d[maxi]==1:\n",
    "        print(\"mode is not available\")\n",
    "    else:\n",
    "        print(\"mode is \"+str(i)+\": \"+str(d[maxi]))\n",
    "mode(num)\n",
    "    \n",
    "    "
   ]
  },
  {
   "cell_type": "code",
   "execution_count": 42,
   "metadata": {},
   "outputs": [
    {
     "name": "stdout",
     "output_type": "stream",
     "text": [
      "6\n"
     ]
    }
   ],
   "source": [
    "lis=[2,3,1,6,7,8,5]\n",
    "n=len(lis)\n",
    "mean=sum(lis)//n\n",
    "var=0\n",
    "for i in lis:\n",
    "    var=var+(i-mean)**2\n",
    "    varience=var//n\n",
    "print(varience)"
   ]
  },
  {
   "cell_type": "code",
   "execution_count": 43,
   "metadata": {},
   "outputs": [
    {
     "name": "stdout",
     "output_type": "stream",
     "text": [
      "2.449489742783178\n"
     ]
    }
   ],
   "source": [
    "lis=[2,3,1,6,7,8,5]\n",
    "n=len(lis)\n",
    "mean=sum(lis)//n\n",
    "var=0\n",
    "for i in lis:\n",
    "    var=var+(i-mean)**2\n",
    "    sd=(var//n)**0.5\n",
    "print(sd)"
   ]
  },
  {
   "cell_type": "code",
   "execution_count": null,
   "metadata": {},
   "outputs": [],
   "source": []
  }
 ],
 "metadata": {
  "kernelspec": {
   "display_name": "Python 3 (ipykernel)",
   "language": "python",
   "name": "python3"
  },
  "language_info": {
   "codemirror_mode": {
    "name": "ipython",
    "version": 3
   },
   "file_extension": ".py",
   "mimetype": "text/x-python",
   "name": "python",
   "nbconvert_exporter": "python",
   "pygments_lexer": "ipython3",
   "version": "3.7.6"
  }
 },
 "nbformat": 4,
 "nbformat_minor": 4
}
