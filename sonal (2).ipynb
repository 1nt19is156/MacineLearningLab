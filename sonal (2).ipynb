{
 "cells": [
  {
   "cell_type": "code",
   "execution_count": 1,
   "metadata": {},
   "outputs": [
    {
     "name": "stdout",
     "output_type": "stream",
     "text": [
      "hello world\n"
     ]
    }
   ],
   "source": [
    "print('hello world')"
   ]
  },
  {
   "cell_type": "code",
   "execution_count": 2,
   "metadata": {},
   "outputs": [
    {
     "name": "stdout",
     "output_type": "stream",
     "text": [
      "helllooooo soniiiiii!!!\n"
     ]
    }
   ],
   "source": [
    "print('helllooooo soniiiiii!!!')"
   ]
  },
  {
   "cell_type": "code",
   "execution_count": 3,
   "metadata": {},
   "outputs": [
    {
     "name": "stdout",
     "output_type": "stream",
     "text": [
      "x\n"
     ]
    }
   ],
   "source": [
    "x=5\n",
    "print(\"x\")"
   ]
  },
  {
   "cell_type": "code",
   "execution_count": 4,
   "metadata": {},
   "outputs": [
    {
     "ename": "AttributeError",
     "evalue": "'int' object has no attribute 'print'",
     "output_type": "error",
     "traceback": [
      "\u001b[0;31m---------------------------------------------------------------------------\u001b[0m",
      "\u001b[0;31mAttributeError\u001b[0m                            Traceback (most recent call last)",
      "\u001b[0;32m<ipython-input-4-b43acc261550>\u001b[0m in \u001b[0;36m<module>\u001b[0;34m\u001b[0m\n\u001b[1;32m      1\u001b[0m \u001b[0mx\u001b[0m\u001b[0;34m=\u001b[0m\u001b[0;36m5\u001b[0m\u001b[0;34m\u001b[0m\u001b[0;34m\u001b[0m\u001b[0m\n\u001b[0;32m----> 2\u001b[0;31m \u001b[0mx\u001b[0m\u001b[0;34m.\u001b[0m\u001b[0mprint\u001b[0m\u001b[0;34m\u001b[0m\u001b[0;34m\u001b[0m\u001b[0m\n\u001b[0m",
      "\u001b[0;31mAttributeError\u001b[0m: 'int' object has no attribute 'print'"
     ]
    }
   ],
   "source": [
    "x=5\n",
    "x.print"
   ]
  },
  {
   "cell_type": "code",
   "execution_count": 5,
   "metadata": {},
   "outputs": [
    {
     "name": "stdout",
     "output_type": "stream",
     "text": [
      "5\n"
     ]
    }
   ],
   "source": [
    "x=5\n",
    "print(x)"
   ]
  },
  {
   "cell_type": "code",
   "execution_count": 6,
   "metadata": {},
   "outputs": [],
   "source": [
    "x=str(3)"
   ]
  },
  {
   "cell_type": "code",
   "execution_count": 7,
   "metadata": {},
   "outputs": [
    {
     "name": "stdout",
     "output_type": "stream",
     "text": [
      "3\n"
     ]
    }
   ],
   "source": [
    "x=str(3)\n",
    "print(x)"
   ]
  },
  {
   "cell_type": "code",
   "execution_count": 8,
   "metadata": {},
   "outputs": [
    {
     "ename": "NameError",
     "evalue": "name 'hh' is not defined",
     "output_type": "error",
     "traceback": [
      "\u001b[0;31m---------------------------------------------------------------------------\u001b[0m",
      "\u001b[0;31mNameError\u001b[0m                                 Traceback (most recent call last)",
      "\u001b[0;32m<ipython-input-8-7d84d1b0d37d>\u001b[0m in \u001b[0;36m<module>\u001b[0;34m\u001b[0m\n\u001b[0;32m----> 1\u001b[0;31m \u001b[0mx\u001b[0m\u001b[0;34m=\u001b[0m\u001b[0mhh\u001b[0m\u001b[0;34m\u001b[0m\u001b[0;34m\u001b[0m\u001b[0m\n\u001b[0m\u001b[1;32m      2\u001b[0m \u001b[0mprint\u001b[0m\u001b[0;34m(\u001b[0m\u001b[0mtype\u001b[0m\u001b[0;34m(\u001b[0m\u001b[0mx\u001b[0m\u001b[0;34m)\u001b[0m\u001b[0;34m)\u001b[0m\u001b[0;34m\u001b[0m\u001b[0;34m\u001b[0m\u001b[0m\n",
      "\u001b[0;31mNameError\u001b[0m: name 'hh' is not defined"
     ]
    }
   ],
   "source": [
    "x=hh\n",
    "print(type(x))"
   ]
  },
  {
   "cell_type": "code",
   "execution_count": 9,
   "metadata": {},
   "outputs": [
    {
     "name": "stdout",
     "output_type": "stream",
     "text": [
      "<class 'str'>\n"
     ]
    }
   ],
   "source": [
    "x=\"hh\"\n",
    "print(type(x))"
   ]
  },
  {
   "cell_type": "code",
   "execution_count": 10,
   "metadata": {},
   "outputs": [
    {
     "name": "stdout",
     "output_type": "stream",
     "text": [
      "sonal\n",
      "sonal\n"
     ]
    }
   ],
   "source": [
    "x=y=z=\"sonal\"\n",
    "print(x)\n",
    "print(y)"
   ]
  },
  {
   "cell_type": "code",
   "execution_count": 11,
   "metadata": {},
   "outputs": [
    {
     "name": "stdout",
     "output_type": "stream",
     "text": [
      "soni\n",
      "sonal\n",
      "suchithra\n"
     ]
    }
   ],
   "source": [
    "friends=[\"soni\",\"sonal\",\"suchithra\"]\n",
    "x,y,z=friends\n",
    "print(x)\n",
    "print(y)\n",
    "print(z)"
   ]
  },
  {
   "cell_type": "code",
   "execution_count": 12,
   "metadata": {},
   "outputs": [
    {
     "name": "stdout",
     "output_type": "stream",
     "text": [
      "x is 5\n",
      "y is 3\n"
     ]
    }
   ],
   "source": [
    "x=3\n",
    "y=5\n",
    "x,y=y,x\n",
    "print(\"x is\",x)\n",
    "print(\"y is\",y)\n"
   ]
  },
  {
   "cell_type": "code",
   "execution_count": 13,
   "metadata": {},
   "outputs": [
    {
     "name": "stdout",
     "output_type": "stream",
     "text": [
      "5\n",
      "3\n"
     ]
    }
   ],
   "source": [
    "x=3\n",
    "y=5\n",
    "temp=x\n",
    "x=y\n",
    "y=temp\n",
    "print(x)\n",
    "print(y)"
   ]
  },
  {
   "cell_type": "code",
   "execution_count": 28,
   "metadata": {},
   "outputs": [
    {
     "name": "stdout",
     "output_type": "stream",
     "text": [
      "index 1\n"
     ]
    }
   ],
   "source": [
    "def bs(arr,low,high,x):\n",
    "    if high>=low:\n",
    "       mid=(low+high)//2\n",
    "       if arr[mid]==x:\n",
    "         return mid\n",
    "       elif arr[mid]>x:\n",
    "         return bs(arr,low,mid-1,x)\n",
    "       else:\n",
    "         return bs(arr,mid+1,high,x)\n",
    "    else:\n",
    "      return -1\n",
    "\n",
    "arr = [2,3,5,7,9]\n",
    "x = 3 \n",
    "result = bs(arr,0,len(arr)-1,x)\n",
    "if result != -1:\n",
    "    print(\"index\",str(result))\n",
    "else:\n",
    "    print(\"not present\")\n",
    "    \n",
    "    "
   ]
  },
  {
   "cell_type": "code",
   "execution_count": 30,
   "metadata": {},
   "outputs": [
    {
     "name": "stdout",
     "output_type": "stream",
     "text": [
      "unsorted [3, 1, 2, 6, 7, 4]\n",
      "sorted [1, 2, 3, 4, 6, 7]\n"
     ]
    }
   ],
   "source": [
    "def bbs(l):\n",
    " for i in range(0,len(l)-1):\n",
    "    for j in range(len(l)-1):\n",
    "        if(l[j]>l[j+1]):\n",
    "            temp=l[j]\n",
    "            l[j]=l[j+1]\n",
    "            l[j+1]=temp\n",
    " return l\n",
    "l=[3,1,2,6,7,4]\n",
    "print(\"unsorted\",l)\n",
    "print(\"sorted\",bbs(l))"
   ]
  },
  {
   "cell_type": "code",
   "execution_count": 32,
   "metadata": {},
   "outputs": [
    {
     "name": "stdout",
     "output_type": "stream",
     "text": [
      "at 3\n"
     ]
    }
   ],
   "source": [
    "def ls(arr,n,key):\n",
    "    for i in range(0,n):\n",
    "        if (arr[i]==key):\n",
    "            return i\n",
    "    return -1\n",
    "arr =[3,6,4,5,9]\n",
    "key=5\n",
    "n=len(arr)\n",
    "res=ls(arr,n,key)\n",
    "if(res==-1):\n",
    "    print(\"not found\")\n",
    "else:\n",
    "    print(\"at\",res)"
   ]
  },
  {
   "cell_type": "code",
   "execution_count": 53,
   "metadata": {},
   "outputs": [],
   "source": [
    "import math\n",
    "import statistics"
   ]
  },
  {
   "cell_type": "code",
   "execution_count": 54,
   "metadata": {},
   "outputs": [],
   "source": [
    "num =[20,10,50,50,50,40,60,80,10,90,70,70]\n",
    "size=len(num)"
   ]
  },
  {
   "cell_type": "code",
   "execution_count": 55,
   "metadata": {},
   "outputs": [
    {
     "name": "stdout",
     "output_type": "stream",
     "text": [
      "50.0\n"
     ]
    }
   ],
   "source": [
    "def mean(num):\n",
    "    size=len(num)\n",
    "    sum=0\n",
    "    \n",
    "    for i in num:\n",
    "        sum+=i\n",
    "    \n",
    "    mean=sum/size\n",
    "    return mean\n",
    "print(mean(num))"
   ]
  },
  {
   "cell_type": "code",
   "execution_count": 56,
   "metadata": {},
   "outputs": [
    {
     "name": "stdout",
     "output_type": "stream",
     "text": [
      "50.0\n"
     ]
    }
   ],
   "source": [
    "def median(num):\n",
    "    size=len(num)\n",
    "    \n",
    "    num.sort()\n",
    "    if size % 2 ==0:\n",
    "        num1=num[size//2]\n",
    "        num2=num[size//2]\n",
    "        num=(num1+num2)/2\n",
    "    else:\n",
    "        num=(size+1)//2\n",
    "    return num\n",
    "print(median(num))"
   ]
  },
  {
   "cell_type": "code",
   "execution_count": 57,
   "metadata": {},
   "outputs": [
    {
     "name": "stdout",
     "output_type": "stream",
     "text": [
      "mode is 90: 2\n"
     ]
    }
   ],
   "source": [
    "def mode(num):\n",
    "    d=dict()\n",
    "    \n",
    "    for i in num:\n",
    "        d[i]=0\n",
    "        maxi=num[0]\n",
    "    for i in num:\n",
    "        d[i]+=1\n",
    "    if d[i]>d[maxi]:\n",
    "        maxi=i\n",
    "    if d[maxi]==1:\n",
    "        print(\"mode is not available\")\n",
    "    else:\n",
    "        print(\"mode is \"+str(i)+\": \"+str(d[maxi]))\n",
    "mode(num)\n",
    "    \n",
    "    "
   ]
  },
  {
   "cell_type": "code",
   "execution_count": 58,
   "metadata": {},
   "outputs": [
    {
     "name": "stdout",
     "output_type": "stream",
     "text": [
      "6\n"
     ]
    }
   ],
   "source": [
    "lis=[2,3,1,6,7,8,5]\n",
    "n=len(lis)\n",
    "mean=sum(lis)//n\n",
    "var=0\n",
    "for i in lis:\n",
    "    var=var+(i-mean)**2\n",
    "    varience=var//n\n",
    "print(varience)"
   ]
  },
  {
   "cell_type": "code",
   "execution_count": 59,
   "metadata": {},
   "outputs": [
    {
     "name": "stdout",
     "output_type": "stream",
     "text": [
      "2.449489742783178\n"
     ]
    }
   ],
   "source": [
    "lis=[2,3,1,6,7,8,5]\n",
    "n=len(lis)\n",
    "mean=sum(lis)//n\n",
    "var=0\n",
    "for i in lis:\n",
    "    var=var+(i-mean)**2\n",
    "    sd=(var//n)**0.5\n",
    "print(sd)"
   ]
  },
  {
   "cell_type": "code",
   "execution_count": 60,
   "metadata": {},
   "outputs": [
    {
     "name": "stdout",
     "output_type": "stream",
     "text": [
      "[0.0, 0.0, 0.125, 0.375, 0.5, 0.5, 0.5, 0.625, 0.75, 0.75, 0.875, 1.0]\n"
     ]
    }
   ],
   "source": [
    "def normalization(num):\n",
    "    mi=min(num)\n",
    "    ma=max(num)\n",
    "    nu=[]\n",
    "    for i in num:\n",
    "        nu.append((i-mi)/(ma-mi))\n",
    "    return nu\n",
    "print(normalization(num))\n",
    "    "
   ]
  },
  {
   "cell_type": "code",
   "execution_count": 2,
   "metadata": {
    "scrolled": true
   },
   "outputs": [
    {
     "name": "stdout",
     "output_type": "stream",
     "text": [
      "mean 3\n"
     ]
    },
    {
     "ename": "NameError",
     "evalue": "name 'n' is not defined",
     "output_type": "error",
     "traceback": [
      "\u001b[0;31m---------------------------------------------------------------------------\u001b[0m",
      "\u001b[0;31mNameError\u001b[0m                                 Traceback (most recent call last)",
      "\u001b[0;32m<ipython-input-2-922743ab7844>\u001b[0m in \u001b[0;36m<module>\u001b[0;34m\u001b[0m\n\u001b[1;32m      5\u001b[0m \u001b[0;32mfor\u001b[0m \u001b[0mi\u001b[0m \u001b[0;32min\u001b[0m \u001b[0mlis\u001b[0m\u001b[0;34m:\u001b[0m\u001b[0;34m\u001b[0m\u001b[0;34m\u001b[0m\u001b[0m\n\u001b[1;32m      6\u001b[0m     \u001b[0mvar\u001b[0m\u001b[0;34m=\u001b[0m\u001b[0mvar\u001b[0m\u001b[0;34m+\u001b[0m\u001b[0;34m(\u001b[0m\u001b[0mi\u001b[0m\u001b[0;34m-\u001b[0m\u001b[0mmean1\u001b[0m\u001b[0;34m)\u001b[0m\u001b[0;34m**\u001b[0m\u001b[0;36m2\u001b[0m\u001b[0;34m\u001b[0m\u001b[0;34m\u001b[0m\u001b[0m\n\u001b[0;32m----> 7\u001b[0;31m     \u001b[0msd\u001b[0m\u001b[0;34m=\u001b[0m\u001b[0;34m(\u001b[0m\u001b[0mvar\u001b[0m\u001b[0;34m//\u001b[0m\u001b[0mn\u001b[0m\u001b[0;34m)\u001b[0m\u001b[0;34m**\u001b[0m\u001b[0;36m0.5\u001b[0m\u001b[0;34m\u001b[0m\u001b[0;34m\u001b[0m\u001b[0m\n\u001b[0m\u001b[1;32m      8\u001b[0m \u001b[0mprint\u001b[0m\u001b[0;34m(\u001b[0m\u001b[0;34m\"standard deviation\"\u001b[0m\u001b[0;34m,\u001b[0m\u001b[0msd\u001b[0m\u001b[0;34m)\u001b[0m\u001b[0;34m\u001b[0m\u001b[0;34m\u001b[0m\u001b[0m\n\u001b[1;32m      9\u001b[0m \u001b[0;32mfor\u001b[0m \u001b[0mj\u001b[0m \u001b[0;32min\u001b[0m \u001b[0mlis\u001b[0m\u001b[0;34m:\u001b[0m\u001b[0;34m\u001b[0m\u001b[0;34m\u001b[0m\u001b[0m\n",
      "\u001b[0;31mNameError\u001b[0m: name 'n' is not defined"
     ]
    }
   ],
   "source": [
    "lis=[1,4,3,2,5,6]\n",
    "mean1=sum(lis)//len(lis)\n",
    "print(\"mean\",mean1)\n",
    "var=0\n",
    "for i in lis:\n",
    "    var=var+(i-mean1)**2\n",
    "    sd=(var//n)**0.5\n",
    "print(\"standard deviation\",sd)\n",
    "for j in lis:\n",
    "    standardization=(j-mean1)/sd\n",
    "    print(standardization)"
   ]
  },
  {
   "cell_type": "code",
   "execution_count": 3,
   "metadata": {},
   "outputs": [
    {
     "data": {
      "text/plain": [
       "[['X1', 'X2'],\n",
       " ['5.9', '3.2'],\n",
       " ['4.6', '2.9'],\n",
       " ['6.2', '2.8'],\n",
       " ['4.7', '3.2'],\n",
       " ['5.5', '4.2'],\n",
       " ['5', '3'],\n",
       " ['4.9', '3.1'],\n",
       " ['6.7', '3.1'],\n",
       " ['5.1', '3.8'],\n",
       " ['6', '3']]"
      ]
     },
     "execution_count": 3,
     "metadata": {},
     "output_type": "execute_result"
    }
   ],
   "source": [
    "import csv \n",
    "file= open('/home/ignis/kmeans.csv')\n",
    "csvreader = csv.reader(file)\n",
    "row=[]\n",
    "for i in csvreader:\n",
    "    row.append(i)\n",
    "row"
   ]
  },
  {
   "cell_type": "code",
   "execution_count": 4,
   "metadata": {},
   "outputs": [],
   "source": [
    "import numpy as np\n",
    "import pandas as pd\n",
    "from copy import deepcopy\n",
    "k=2\n",
    "import random as rd\n",
    "import matplotlib.pyplot as plt"
   ]
  },
  {
   "cell_type": "code",
   "execution_count": 5,
   "metadata": {},
   "outputs": [
    {
     "name": "stdout",
     "output_type": "stream",
     "text": [
      "    X1   X2\n",
      "0  5.9  3.2\n",
      "1  4.6  2.9\n",
      "2  6.2  2.8\n",
      "3  4.7  3.2\n",
      "4  5.5  4.2\n",
      "5  5.0  3.0\n",
      "6  4.9  3.1\n",
      "7  6.7  3.1\n",
      "8  5.1  3.8\n",
      "9  6.0  3.0\n"
     ]
    }
   ],
   "source": [
    "X = pd.read_csv('kmeans.csv')\n",
    "print(X)"
   ]
  },
  {
   "cell_type": "code",
   "execution_count": 6,
   "metadata": {},
   "outputs": [
    {
     "data": {
      "image/png": "[encoded data removed]",
      "text/plain": [
       "<Figure size 432x288 with 1 Axes>"
      ]
     },
     "metadata": {
      "needs_background": "light"
     },
     "output_type": "display_data"
    }
   ],
   "source": [
    "X = X[[\"X1\", \"X2\"]]\n",
    "plt.scatter(X[\"X1\"],X[\"X2\"],c='black')\n",
    "plt.xlabel('height')\n",
    "plt.ylabel('weight')\n",
    "plt.show()"
   ]
  },
  {
   "cell_type": "code",
   "execution_count": 8,
   "metadata": {},
   "outputs": [],
   "source": [
    "x1=X['X1'].values\n",
    "x2=X['X2'].values"
   ]
  },
  {
   "cell_type": "code",
   "execution_count": 9,
   "metadata": {},
   "outputs": [
    {
     "data": {
      "text/plain": [
       "array([5.9, 4.6, 6.2, 4.7, 5.5, 5. , 4.9, 6.7, 5.1, 6. ])"
      ]
     },
     "execution_count": 9,
     "metadata": {},
     "output_type": "execute_result"
    }
   ],
   "source": [
    "x1"
   ]
  },
  {
   "cell_type": "code",
   "execution_count": 10,
   "metadata": {},
   "outputs": [
    {
     "data": {
      "text/plain": [
       "array([3.2, 2.9, 2.8, 3.2, 4.2, 3. , 3.1, 3.1, 3.8, 3. ])"
      ]
     },
     "execution_count": 10,
     "metadata": {},
     "output_type": "execute_result"
    }
   ],
   "source": [
    "x2"
   ]
  },
  {
   "cell_type": "code",
   "execution_count": 11,
   "metadata": {},
   "outputs": [
    {
     "name": "stdout",
     "output_type": "stream",
     "text": [
      "[[5.9 3.2]\n",
      " [4.6 2.9]\n",
      " [6.2 2.8]\n",
      " [4.7 3.2]\n",
      " [5.5 4.2]\n",
      " [5.  3. ]\n",
      " [4.9 3.1]\n",
      " [6.7 3.1]\n",
      " [5.1 3.8]\n",
      " [6.  3. ]]\n"
     ]
    }
   ],
   "source": [
    "X=np.array(list(zip(x1,x2)))\n",
    "print(X)"
   ]
  },
  {
   "cell_type": "code",
   "execution_count": 12,
   "metadata": {},
   "outputs": [],
   "source": [
    "C_x = [4,6,7]\n",
    "C_y = [2,3,4]\n"
   ]
  },
  {
   "cell_type": "code",
   "execution_count": 14,
   "metadata": {},
   "outputs": [
    {
     "name": "stdout",
     "output_type": "stream",
     "text": [
      "initial centroids\n",
      "(3, 2)\n"
     ]
    }
   ],
   "source": [
    "Centroid = np.array(list(zip(C_x,C_y)),dtype=np.float32)\n",
    "print(\"initial centroids\")\n",
    "print(Centroid.shape)"
   ]
  },
  {
   "cell_type": "code",
   "execution_count": 15,
   "metadata": {},
   "outputs": [
    {
     "data": {
      "text/plain": [
       "array([[4., 2.],\n",
       "       [6., 3.],\n",
       "       [7., 4.]], dtype=float32)"
      ]
     },
     "execution_count": 15,
     "metadata": {},
     "output_type": "execute_result"
    }
   ],
   "source": [
    "Centroid"
   ]
  },
  {
   "cell_type": "code",
   "execution_count": 16,
   "metadata": {},
   "outputs": [
    {
     "data": {
      "text/plain": [
       "numpy.ndarray"
      ]
     },
     "execution_count": 16,
     "metadata": {},
     "output_type": "execute_result"
    }
   ],
   "source": [
    "type(Centroid)"
   ]
  },
  {
   "cell_type": "code",
   "execution_count": 18,
   "metadata": {},
   "outputs": [
    {
     "name": "stdout",
     "output_type": "stream",
     "text": [
      "[[0. 0.]\n",
      " [0. 0.]\n",
      " [0. 0.]]\n"
     ]
    }
   ],
   "source": [
    "Centroid_old =np.zeros(Centroid.shape)\n",
    "print(Centroid_old)"
   ]
  },
  {
   "cell_type": "code",
   "execution_count": 19,
   "metadata": {},
   "outputs": [
    {
     "name": "stdout",
     "output_type": "stream",
     "text": [
      "[0. 0. 0. 0. 0. 0. 0. 0. 0. 0.]\n"
     ]
    }
   ],
   "source": [
    "clusters = np.zeros(len(X))\n",
    "print(clusters)"
   ]
  },
  {
   "cell_type": "code",
   "execution_count": 20,
   "metadata": {},
   "outputs": [
    {
     "data": {
      "text/plain": [
       "[1, 2, 0, 0, 1, 2, 1, 0, 1, 0]"
      ]
     },
     "execution_count": 20,
     "metadata": {},
     "output_type": "execute_result"
    }
   ],
   "source": [
    "[1,2,0,0,1,2,1,0,1,0]"
   ]
  },
  {
   "cell_type": "code",
   "execution_count": 21,
   "metadata": {},
   "outputs": [],
   "source": [
    "def euclidean(a,b,ax=1):\n",
    "    return np.linalg.norm(a-b,axis=ax)"
   ]
  },
  {
   "cell_type": "code",
   "execution_count": 22,
   "metadata": {},
   "outputs": [
    {
     "name": "stdout",
     "output_type": "stream",
     "text": [
      "11.40175425099138\n"
     ]
    }
   ],
   "source": [
    "error=euclidean(Centroid,Centroid_old,None)\n",
    "print(error)"
   ]
  },
  {
   "cell_type": "code",
   "execution_count": 23,
   "metadata": {},
   "outputs": [],
   "source": [
    "iterr=0"
   ]
  },
  {
   "cell_type": "code",
   "execution_count": 28,
   "metadata": {},
   "outputs": [
    {
     "name": "stdout",
     "output_type": "stream",
     "text": [
      "OLd centroid\n",
      "[[4. 2.]\n",
      " [6. 3.]\n",
      " [7. 4.]]\n",
      "new centroids after 3 Iteration \n",
      " [[4.6       2.9      ]\n",
      " [5.5555553 3.2666667]\n",
      " [7.        4.       ]]\n",
      "Error  1.1994342\n",
      "data points belong to which cluster\n",
      "[1. 0. 1. 1. 1. 1. 1. 1. 1. 1.]\n",
      "OLd centroid\n",
      "[[4.6       2.9      ]\n",
      " [5.5555553 3.2666667]\n",
      " [7.        4.       ]]\n",
      "new centroids after 4 Iteration \n",
      " [[4.8  3.05]\n",
      " [5.74 3.4 ]\n",
      " [7.   4.  ]]\n",
      "Error  0.33807933\n",
      "data points belong to which cluster\n",
      "[1. 0. 1. 0. 1. 0. 0. 2. 1. 1.]\n",
      "OLd centroid\n",
      "[[4.8  3.05]\n",
      " [5.74 3.4 ]\n",
      " [7.   4.  ]]\n",
      "new centroids after 5 Iteration \n",
      " [[4.8  3.05]\n",
      " [5.74 3.4 ]\n",
      " [7.   4.  ]]\n",
      "Error  0.0\n",
      "data points belong to which cluster\n",
      "[1. 0. 1. 0. 1. 0. 0. 2. 1. 1.]\n"
     ]
    }
   ],
   "source": [
    "while error != 0:\n",
    "    iterr=iterr + 1\n",
    "    for i in range(len(X)):\n",
    "        distances = euclidean(X[i],Centroid)\n",
    "        cluster = np.argmin(distances)\n",
    "        clusters[i]=cluster\n",
    "    Centroid_old = deepcopy(Centroid)\n",
    "    print(\"OLd centroid\")\n",
    "    print(Centroid_old)\n",
    "    \n",
    "    for p in range(k):\n",
    "        points=[X[j] for j in range(len(X)) if clusters[j] == p]\n",
    "        Centroid[p]= np.mean(points,axis=0)\n",
    "    print(\"new centroids after\",iterr,\"Iteration \\n\",Centroid)\n",
    "    error=euclidean(Centroid,Centroid_old,None)\n",
    "    print(\"Error \",error)\n",
    "    print(\"data points belong to which cluster\")\n",
    "    print(clusters)"
   ]
  },
  {
   "cell_type": "code",
   "execution_count": null,
   "metadata": {},
   "outputs": [],
   "source": []
  }
 ],
 "metadata": {
  "kernelspec": {
   "display_name": "Python 3 (ipykernel)",
   "language": "python",
   "name": "python3"
  },
  "language_info": {
   "codemirror_mode": {
    "name": "ipython",
    "version": 3
   },
   "file_extension": ".py",
   "mimetype": "text/x-python",
   "name": "python",
   "nbconvert_exporter": "python",
   "pygments_lexer": "ipython3",
   "version": "3.7.6"
  }
 },
 "nbformat": 4,
 "nbformat_minor": 4
}
