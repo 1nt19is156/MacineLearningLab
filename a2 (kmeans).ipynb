{
 "cells": [
  {
   "cell_type": "code",
   "execution_count": 10,
   "id": "f3784465",
   "metadata": {},
   "outputs": [
    {
     "data": {
      "text/plain": [
       "[['X1', 'X2'],\n",
       " ['2.3', '3.2'],\n",
       " ['5.4', '2.8'],\n",
       " ['6', '5.6'],\n",
       " ['7', '2.4'],\n",
       " ['8.9', '3.1'],\n",
       " ['3.1', '3.8'],\n",
       " ['5.1', '3'],\n",
       " ['7.8', '4.2'],\n",
       " ['4.9', '3.1'],\n",
       " ['1.6', '4.2']]"
      ]
     },
     "execution_count": 10,
     "metadata": {},
     "output_type": "execute_result"
    }
   ],
   "source": [
    "import csv \n",
    "file= open('C:/Users/Admin/Documents/kmeans.csv')\n",
    "csvreader = csv.reader(file)\n",
    "row=[]\n",
    "for i in csvreader:\n",
    "    row.append(i)\n",
    "row"
   ]
  },
  {
   "cell_type": "code",
   "execution_count": 11,
   "id": "6c02ec59",
   "metadata": {},
   "outputs": [],
   "source": [
    "import numpy as np\n",
    "import pandas as pd\n",
    "from copy import deepcopy\n",
    "k=2\n",
    "import random as rd\n",
    "import matplotlib.pyplot as plt"
   ]
  },
  {
   "cell_type": "code",
   "execution_count": 12,
   "id": "cc5efc4c",
   "metadata": {},
   "outputs": [
    {
     "name": "stdout",
     "output_type": "stream",
     "text": [
      "    X1   X2\n",
      "0  2.3  3.2\n",
      "1  5.4  2.8\n",
      "2  6.0  5.6\n",
      "3  7.0  2.4\n",
      "4  8.9  3.1\n",
      "5  3.1  3.8\n",
      "6  5.1  3.0\n",
      "7  7.8  4.2\n",
      "8  4.9  3.1\n",
      "9  1.6  4.2\n"
     ]
    }
   ],
   "source": [
    "X = pd.read_csv('C:/Users/Admin/Documents/kmeans.csv')\n",
    "print(X)"
   ]
  },
  {
   "cell_type": "code",
   "execution_count": 13,
   "id": "c61952d0",
   "metadata": {},
   "outputs": [
    {
     "data": {
      "image/png": "[encoded data removed]",
      "text/plain": [
       "<Figure size 432x288 with 1 Axes>"
      ]
     },
     "metadata": {
      "needs_background": "light"
     },
     "output_type": "display_data"
    }
   ],
   "source": [
    "X = X[[\"X1\", \"X2\"]]\n",
    "plt.scatter(X[\"X1\"],X[\"X2\"],c='black')\n",
    "plt.xlabel('height')\n",
    "plt.ylabel('weight')\n",
    "plt.show()"
   ]
  },
  {
   "cell_type": "code",
   "execution_count": 14,
   "id": "7aab36f5",
   "metadata": {},
   "outputs": [],
   "source": [
    "x1=X['X1'].values\n",
    "x2=X['X2'].values"
   ]
  },
  {
   "cell_type": "code",
   "execution_count": 15,
   "id": "f840390d",
   "metadata": {},
   "outputs": [
    {
     "data": {
      "text/plain": [
       "array([2.3, 5.4, 6. , 7. , 8.9, 3.1, 5.1, 7.8, 4.9, 1.6])"
      ]
     },
     "execution_count": 15,
     "metadata": {},
     "output_type": "execute_result"
    }
   ],
   "source": [
    "x1"
   ]
  },
  {
   "cell_type": "code",
   "execution_count": 16,
   "id": "25ef0e5d",
   "metadata": {},
   "outputs": [
    {
     "data": {
      "text/plain": [
       "array([3.2, 2.8, 5.6, 2.4, 3.1, 3.8, 3. , 4.2, 3.1, 4.2])"
      ]
     },
     "execution_count": 16,
     "metadata": {},
     "output_type": "execute_result"
    }
   ],
   "source": [
    "x2"
   ]
  },
  {
   "cell_type": "code",
   "execution_count": 17,
   "id": "b0fc6428",
   "metadata": {},
   "outputs": [
    {
     "name": "stdout",
     "output_type": "stream",
     "text": [
      "[[2.3 3.2]\n",
      " [5.4 2.8]\n",
      " [6.  5.6]\n",
      " [7.  2.4]\n",
      " [8.9 3.1]\n",
      " [3.1 3.8]\n",
      " [5.1 3. ]\n",
      " [7.8 4.2]\n",
      " [4.9 3.1]\n",
      " [1.6 4.2]]\n"
     ]
    }
   ],
   "source": [
    "X=np.array(list(zip(x1,x2)))\n",
    "print(X)"
   ]
  },
  {
   "cell_type": "code",
   "execution_count": 18,
   "id": "f246b053",
   "metadata": {},
   "outputs": [],
   "source": [
    "C_x = [4,6,7]\n",
    "C_y = [2,3,4]"
   ]
  },
  {
   "cell_type": "code",
   "execution_count": 19,
   "id": "cb761625",
   "metadata": {},
   "outputs": [
    {
     "name": "stdout",
     "output_type": "stream",
     "text": [
      "initial centroids\n",
      "(3, 2)\n"
     ]
    }
   ],
   "source": [
    "Centroid = np.array(list(zip(C_x,C_y)),dtype=np.float32)\n",
    "print(\"initial centroids\")\n",
    "print(Centroid.shape)"
   ]
  },
  {
   "cell_type": "code",
   "execution_count": 20,
   "id": "d80167e9",
   "metadata": {},
   "outputs": [
    {
     "data": {
      "text/plain": [
       "array([[4., 2.],\n",
       "       [6., 3.],\n",
       "       [7., 4.]], dtype=float32)"
      ]
     },
     "execution_count": 20,
     "metadata": {},
     "output_type": "execute_result"
    }
   ],
   "source": [
    "Centroid"
   ]
  },
  {
   "cell_type": "code",
   "execution_count": 21,
   "id": "97684c8b",
   "metadata": {},
   "outputs": [
    {
     "data": {
      "text/plain": [
       "numpy.ndarray"
      ]
     },
     "execution_count": 21,
     "metadata": {},
     "output_type": "execute_result"
    }
   ],
   "source": [
    "type(Centroid)"
   ]
  },
  {
   "cell_type": "code",
   "execution_count": 22,
   "id": "02e04443",
   "metadata": {},
   "outputs": [
    {
     "name": "stdout",
     "output_type": "stream",
     "text": [
      "[[0. 0.]\n",
      " [0. 0.]\n",
      " [0. 0.]]\n"
     ]
    }
   ],
   "source": [
    "Centroid_old =np.zeros(Centroid.shape)\n",
    "print(Centroid_old)"
   ]
  },
  {
   "cell_type": "code",
   "execution_count": 23,
   "id": "dd2024e4",
   "metadata": {},
   "outputs": [
    {
     "name": "stdout",
     "output_type": "stream",
     "text": [
      "[0. 0. 0. 0. 0. 0. 0. 0. 0. 0.]\n"
     ]
    }
   ],
   "source": [
    "clusters = np.zeros(len(X))\n",
    "print(clusters)"
   ]
  },
  {
   "cell_type": "code",
   "execution_count": 24,
   "id": "712e43bd",
   "metadata": {},
   "outputs": [
    {
     "data": {
      "text/plain": [
       "[1, 2, 0, 0, 1, 2, 1, 0, 1, 0]"
      ]
     },
     "execution_count": 24,
     "metadata": {},
     "output_type": "execute_result"
    }
   ],
   "source": [
    "[1,2,0,0,1,2,1,0,1,0]"
   ]
  },
  {
   "cell_type": "code",
   "execution_count": 25,
   "id": "4d786a60",
   "metadata": {},
   "outputs": [],
   "source": [
    "def euclidean(a,b,ax=1):\n",
    "    return np.linalg.norm(a-b,axis=ax)"
   ]
  },
  {
   "cell_type": "code",
   "execution_count": 26,
   "id": "f79d8eeb",
   "metadata": {},
   "outputs": [
    {
     "name": "stdout",
     "output_type": "stream",
     "text": [
      "11.40175425099138\n"
     ]
    }
   ],
   "source": [
    "error=euclidean(Centroid,Centroid_old,None)\n",
    "print(error)"
   ]
  },
  {
   "cell_type": "code",
   "execution_count": 27,
   "id": "da386f87",
   "metadata": {},
   "outputs": [],
   "source": [
    "iterr=0"
   ]
  },
  {
   "cell_type": "code",
   "execution_count": 28,
   "id": "42abf3ed",
   "metadata": {},
   "outputs": [
    {
     "name": "stdout",
     "output_type": "stream",
     "text": [
      "OLd centroid\n",
      "[[4. 2.]\n",
      " [6. 3.]\n",
      " [7. 4.]]\n",
      "new centroids after 1 Iteration \n",
      " [[2.3333333 3.7333333]\n",
      " [5.6       2.825    ]\n",
      " [7.        4.       ]]\n",
      "Error  2.443941\n",
      "data points belong to which cluster\n",
      "[0. 1. 2. 1. 2. 0. 1. 2. 1. 0.]\n",
      "OLd centroid\n",
      "[[2.3333333 3.7333333]\n",
      " [5.6       2.825    ]\n",
      " [7.        4.       ]]\n",
      "new centroids after 2 Iteration \n",
      " [[2.3333333 3.7333333]\n",
      " [5.6       2.825    ]\n",
      " [7.        4.       ]]\n",
      "Error  0.0\n",
      "data points belong to which cluster\n",
      "[0. 1. 2. 1. 2. 0. 1. 2. 1. 0.]\n"
     ]
    }
   ],
   "source": [
    "while error != 0:\n",
    "    iterr=iterr + 1\n",
    "    for i in range(len(X)):\n",
    "        distances = euclidean(X[i],Centroid)\n",
    "        cluster = np.argmin(distances)\n",
    "        clusters[i]=cluster\n",
    "    Centroid_old = deepcopy(Centroid)\n",
    "    print(\"OLd centroid\")\n",
    "    print(Centroid_old)\n",
    "    \n",
    "    for p in range(k):\n",
    "        points=[X[j] for j in range(len(X)) if clusters[j] == p]\n",
    "        Centroid[p]= np.mean(points,axis=0)\n",
    "    print(\"new centroids after\",iterr,\"Iteration \\n\",Centroid)\n",
    "    error=euclidean(Centroid,Centroid_old,None)\n",
    "    print(\"Error \",error)\n",
    "    print(\"data points belong to which cluster\")\n",
    "    print(clusters)"
   ]
  },
  {
   "cell_type": "code",
   "execution_count": null,
   "id": "79a3b4ef",
   "metadata": {},
   "outputs": [],
   "source": []
  }
 ],
 "metadata": {
  "kernelspec": {
   "display_name": "Python 3 (ipykernel)",
   "language": "python",
   "name": "python3"
  },
  "language_info": {
   "codemirror_mode": {
    "name": "ipython",
    "version": 3
   },
   "file_extension": ".py",
   "mimetype": "text/x-python",
   "name": "python",
   "nbconvert_exporter": "python",
   "pygments_lexer": "ipython3",
   "version": "3.9.12"
  }
 },
 "nbformat": 4,
 "nbformat_minor": 5
}
